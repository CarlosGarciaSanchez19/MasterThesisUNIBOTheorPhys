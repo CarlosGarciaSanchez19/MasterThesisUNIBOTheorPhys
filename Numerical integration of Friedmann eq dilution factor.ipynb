{
 "cells": [
  {
   "cell_type": "code",
   "execution_count": 2,
   "id": "9968aa5e",
   "metadata": {},
   "outputs": [],
   "source": [
    "import math as mt\n",
    "import numpy as np\n",
    "import scipy.integrate as sint"
   ]
  },
  {
   "cell_type": "code",
   "execution_count": 3,
   "id": "f6e61bf4",
   "metadata": {},
   "outputs": [],
   "source": [
    "# There will be two free parameters in our integration m_v and tau_v that are the mediator's mass and the mediator's \n",
    "# life-time respectively:\n",
    "#tau_v , m_v = np.meshgrid(np.linspace(1e-11,0.1,int(1e3)),np.linspace(0.1,1e10,int(1e3)))\n",
    "#m_v = np.linspace(0.1,1e10,int(1e3))        #defined in GeV\n",
    "tau_v = np.linspace(1e-11,0.1,int(1e2))    #defined in seconds\n",
    "\n",
    "#We define the different functions and constants we will be using:\n",
    "\n",
    "Mpl = 2.4e18#GeV\n",
    "T_0 = 100000000#GeV (100 PeV)\n",
    "f_v = 1000\n",
    "\n",
    "def g_SM(T): #T in GeV, only before the QCD transition.\n",
    "    if T > 173.3: g = 106.75\n",
    "    if T < 173.3 and T > 125.6: g = 96.25\n",
    "    if T < 125.6 and T > 91.2: g = 95.25\n",
    "    if T < 91.2 and T > 80.4: g = 92.25\n",
    "    if T < 80.4 and T > 4.19: g = 86.25\n",
    "    if T < 4.19 and T > 1.777: g = 75.75\n",
    "    if T < 1.777 and T > 1.29: g = 72.25\n",
    "    if T < 1.29 and T > 0.015: g = 61.75\n",
    "    if T < 0.015 and T > 0.01396: g = 17.25\n",
    "    if T < 0.01396 and T > 0.0135: g = 15.25\n",
    "    if T < 0.0135 and T > 0.01057: g = 14.25\n",
    "    if T < 0.01057 and T > 0.0008: g = 10.75\n",
    "    if T < 0.0008 and T > 0.000511: g = 7.409\n",
    "    if T < 0.000511: g = 3.909\n",
    "    return g\n",
    "\n",
    "#def x_0(tau_v,m_v):\n",
    "#    return np.sqrt(3*45/(2*mt.pi**2))*Mpl/(tau_v*np.sqrt(m_v*f_v)*g_SM(T_0)*T_0**3)\n",
    "\n",
    "#x0 = np.sqrt(3*45/(2*mt.pi**2))*Mpl/(tau_v*np.sqrt(m_v*f_v)*g_SM(T_0)*T_0**3)\n",
    "#print(x0.max())\n",
    "#print(x0.min())\n",
    "\n",
    "def Trad(t): #t in seconds\n",
    "    if t == 0: return 1e100\n",
    "    else: return 0.001*np.sqrt(2.42/t)/g_SM(0.001*np.sqrt(2.42/t))**(1/4)\n",
    "\n",
    "#Tdec = Trad()\n",
    "#g_dec[i] = g_SM(Trad(tau))\n",
    "\n",
    "#SOLVE FRIEDMANN EQUATION FOR x0 APPROX 0 AND COMPUTE THE VALUE OF\n",
    "# THE NUMERICAL FACTOR IN THE DILUTION FACTOR EXPRESSION:\n",
    "def g(x,tau):\n",
    "    return g_SM(Trad(tau*x))/g_SM(Trad(tau))\n",
    "x_0 = 1e-3\n",
    "u0_0 = x_0**(2/3)\n",
    "u0_1 = 0\n",
    "u0 = [u0_0,u0_1]\n",
    "X = np.linspace(x_0,10,int(1e6))\n",
    "rtol, atol = (1e-8, 1e-8)\n",
    "I = np.zeros([1,len(tau_v)])\n",
    "i = 0\n",
    "# u(x) = (y(x) , S(x))\n",
    "for tau in tau_v:\n",
    "    def F(x,u):\n",
    "        return [ np.sqrt(u[0]*np.exp(-x) + u[1]*g(x,tau)**(-1/3))/u[0] , u[0]*np.exp(-x) ]\n",
    "    sol1 = sint.solve_ivp(F,[x_0, 10],u0,rtol = rtol, atol = atol, t_eval = X)\n",
    "    S = sol1.y[1]\n",
    "    I[0][i] = S[-1]\n",
    "    i+=1\n",
    "\n",
    "#g_SM(Trad(tau_v))/g_SM(Trad(tau_v*x))*\n",
    "\n",
    "\n",
    "\n"
   ]
  },
  {
   "cell_type": "markdown",
   "id": "d12e8eb4",
   "metadata": {},
   "source": [
    "The dilution factor for the standard model comoving entropy takes the following form: $D_{SM} = \\left( 1 +  \\left[\\frac{4}{3}\\left(\\frac{2\\pi^2}{135}\\right)^\\frac{1}{3}\\int^{\\infty}_{x_0}y(x)e^{-x}dx \\right] \\, (g^{dec}_{SM})^\\frac{1}{3}f^\\frac{4}{3}_V\\left(\\frac{m_V^2}{\\Gamma_V M_{pl}}\\right)^\\frac{2}{3}\\right)^\\frac{3}{4}$ \n",
    "\n",
    "Where $y(x)$ is defined as $y(x) \\equiv x_0^{2/3}z(x)$ and $x_0 \\equiv \\Gamma_V\\sqrt{3M_{pl}^2/\\rho_{V0}}$ .\n",
    "\n",
    "Our computation is performed to obtain the numerical factor $A = \\frac{4}{3}\\left(\\frac{2\\pi^2}{135}\\right)^\\frac{1}{3}\\int^{\\infty}_{x_0}y(x)e^{-x}dx$. In order to obtain it we have to solve the Friedmann equation in presence of the SM radiation and the mediator decaying into SM radiation. The equation is the following:\n",
    "\n",
    "$\\frac{z(x)'}{z(x)} = \\frac{1}{x_0}\\left(\\frac{e^{-x}}{z(x)^3} + \\frac{\\rho_{r0}}{\\rho_{V0}}\\frac{1}{z(x)^4} + \\frac{g^{dec\\,1/3}_{SM}}{z(x)^4g_{SM}(x)^{1/3}}\\int^{x}_{x_0}z(x')e^{-x'}dx'\\right)^{1/2}$\n",
    "\n",
    "where\n",
    "\n",
    "$\\rho_{r0} = \\frac{\\pi^2}{30}g_{SM}(x_0)T^4_0$\n",
    "\n",
    "$\\rho_{V0} = m_V f_V \\left( \\frac{2*\\pi^2}{45} \\right)g_{SM}(x_0) T^3_0$\n",
    "\n",
    "On the other hand, $g_{SM}(x)$ are the degrees of freedom of the Standard Model at $x = \\Gamma_V t$. $g^{dec}_{SM}$ is equal to $g_{SM}(x = 1)$ i.e. the Standard Model d.o.f. at the time of the decay $t = 1/\\Gamma_V = \\tau_V$.\n",
    "\n",
    "As we are assuming Early Matter Domination during the decay epoch defined as $x_0 \\lesssim x \\lesssim 10$ (at $x = 10$ all particles have dacayed) then $\\rho_{r0} \\ll \\rho_{V0}$ and the second term of the later equation can be thrown away. Using the above definitions we arrive to:\n",
    "\n",
    "$\\frac{y(x)'}{y(x)} = \\left(\\frac{e^{-x}}{y(x)^3} + \\frac{g^{dec\\,1/3}_{SM}}{y(x)^4g_{SM}(x)^{1/3}}\\int^x_{x_0}y(x')e^{-x'}dx'\\right)^{1/2}$\n",
    "\n",
    "Now, to integrate numerically the later equation we need to define a new funcion so we obtain a system of first order differential equations. We will call this new function $S(x)$ and define it as follows:\n",
    "\n",
    "$S(x) \\equiv \\int^{x}_{x_0}y(x')e^{-x'}dx'$\n",
    "\n",
    "so its derivative w.r.t. $x$ takes the form\n",
    "\n",
    "$S(x)' = y(x) e^{-x}$\n",
    "\n",
    "With the previous we arrive to the system of first order differential equations we are going to integrate numerically:\n",
    "\n",
    "$\\left\\{  \n",
    "\\begin{array}{lcl}\n",
    "y(x)' = \\frac{1}{y(x)}\\left(y(x)e^{-x} + \\frac{1}{g(x,\\tau_V)^{1/3}}S(x)\\right)^{1/2} \\\\ \n",
    "S(x)' = y(x) e^{-x} \n",
    "\\end{array}  \n",
    "\\right.$\n",
    "\n",
    "our result is (execute the next cell):"
   ]
  },
  {
   "cell_type": "code",
   "execution_count": 7,
   "id": "76a9a330",
   "metadata": {},
   "outputs": [
    {
     "name": "stdout",
     "output_type": "stream",
     "text": [
      "1.086088775095155\n",
      "0.7656504793127655\n"
     ]
    }
   ],
   "source": [
    "print(np.mean(I))\n",
    "# print(np.mean(I)*4/3*(8*mt.pi/3)**(1/3))\n",
    "A = 1.09*4/3*(2*mt.pi**2/135)**(1/3)\n",
    "print(A)"
   ]
  },
  {
   "cell_type": "code",
   "execution_count": 102,
   "id": "2123d3da",
   "metadata": {
    "scrolled": true
   },
   "outputs": [
    {
     "name": "stdout",
     "output_type": "stream",
     "text": [
      "0.763211713797233\n"
     ]
    }
   ],
   "source": [
    "x_0 = 1e-3\n",
    "tau = 1e-11\n",
    "u0_0 = x_0**(2/3)\n",
    "u0_1 = 0\n",
    "u0 = [u0_0,u0_1]\n",
    "X = np.linspace(x_0,10,int(1e6))\n",
    "rtol, atol = (1e-8, 1e-8)\n",
    "# for i in X:\n",
    "#     print(g_SM(Trad(tau*i))/g_SM(Trad(tau)))\n",
    "# u(x) = (y(x),S(x))\n",
    "def F(x,u):\n",
    "    return [ np.sqrt(u[0]*np.exp(-x) + u[1])/u[0] , u[0]*np.exp(-x) ]\n",
    "sol1 = sint.solve_ivp(F,[x_0, 10],u0,rtol = rtol, atol = atol, t_eval = X)\n",
    "S = sol1.y[1]\n",
    "I = S[-1]\n",
    "print(I*4/3*(2*mt.pi**2/135)**(1/3))"
   ]
  },
  {
   "cell_type": "code",
   "execution_count": 94,
   "id": "904c69ec",
   "metadata": {},
   "outputs": [],
   "source": []
  }
 ],
 "metadata": {
  "kernelspec": {
   "display_name": "Python 3 (ipykernel)",
   "language": "python",
   "name": "python3"
  },
  "language_info": {
   "codemirror_mode": {
    "name": "ipython",
    "version": 3
   },
   "file_extension": ".py",
   "mimetype": "text/x-python",
   "name": "python",
   "nbconvert_exporter": "python",
   "pygments_lexer": "ipython3",
   "version": "3.9.7"
  }
 },
 "nbformat": 4,
 "nbformat_minor": 5
}
