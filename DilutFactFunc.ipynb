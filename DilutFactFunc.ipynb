{
 "cells": [
  {
   "cell_type": "code",
   "execution_count": null,
   "id": "19011f85",
   "metadata": {},
   "outputs": [],
   "source": [
    "def y(m_V,DF):\n",
    "    f_V = 0.02\n",
    "    ConvToSI = hbar*c #1e46*1.9733e-16/(1.3806)**2\n",
    "    y = ((DF**(4/3)-1)/0.76565)**(3/2)*Mpl*ConvToSI/(f_V*m_V)**2\n",
    "    return y\n",
    "\n",
    "def Y(m_V,DFp):\n",
    "    return y(m_V,DFp)/g_SM(Trad(y(m_V,DFp)/g_SM(Trad(y(m_V,DFp)/g_SM(Trad(y(m_V,DFp)/g_SM(Trad(y(m_V,DFp)))**(1/2)))**(1/2)))**(1/2)))**(1/2)\n",
    "\n",
    "def x(ctau,DF):\n",
    "    f_V = 0.02\n",
    "    ConvoToNU = mt.sqrt(hbar*c)\n",
    "    x = ((DF**(4/3)-1)/0.76565/g_SM(Trad(ctau))**(1/3))**(3/4)*ConvoToNU*np.sqrt(Mpl/ctau)/f_V\n",
    "    return x\n",
    "def PlotDilFact(DF, m_V, xvals, lblDF, lines):\n",
    "    i = 0\n",
    "    for DFp in DF:\n",
    "        if min(m_V) < xvals[i] < max(m_V):\n",
    "            line = plt.plot(m_V,Y(m_V,DFp),color = 'b', ls = '-', label = lblDF[i])\n",
    "            lines.append(line[0])\n",
    "        else:\n",
    "            plt.plot(m_V,Y(m_V,DFp),color = 'b', ls = '-')\n",
    "        i += 1\n",
    "    return lines"
   ]
  }
 ],
 "metadata": {
  "kernelspec": {
   "display_name": "Python 3 (ipykernel)",
   "language": "python",
   "name": "python3"
  },
  "language_info": {
   "codemirror_mode": {
    "name": "ipython",
    "version": 3
   },
   "file_extension": ".py",
   "mimetype": "text/x-python",
   "name": "python",
   "nbconvert_exporter": "python",
   "pygments_lexer": "ipython3",
   "version": "3.11.7"
  }
 },
 "nbformat": 4,
 "nbformat_minor": 5
}
