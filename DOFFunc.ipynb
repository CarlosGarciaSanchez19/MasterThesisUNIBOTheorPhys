{
 "cells": [
  {
   "cell_type": "code",
   "execution_count": null,
   "id": "92a1ce51",
   "metadata": {},
   "outputs": [],
   "source": [
    "def g_SM(T): #T in GeV # input always a list or an array\n",
    "    gp = [106.75,96.25,95.25,92.25,86.25,75.75,72.25,61.75,17.25,15.25,14.25,10.75,7.409,3.909]\n",
    "    if not isinstance(T, Iterable): T = [T]\n",
    "    g = np.zeros(len(T))\n",
    "    i = 0\n",
    "    for Tp in T:\n",
    "        if Tp > 173.3: g[i] = gp[0]\n",
    "        if Tp < 173.3 and Tp > 125.6: g[i] = gp[1]\n",
    "        if Tp < 125.6 and Tp > 91.2: g[i] = gp[2]\n",
    "        if Tp < 91.2 and Tp > 80.4: g[i] = gp[3]\n",
    "        if Tp < 80.4 and Tp > 4.19: g[i] = gp[4]\n",
    "        if Tp < 4.19 and Tp > 1.777: g[i] = gp[5]\n",
    "        if Tp < 1.777 and Tp > 1.29: g[i] = gp[6]\n",
    "        if Tp < 1.29 and Tp > 0.182: g[i] = gp[7] \n",
    "        if Tp < 0.182 and Tp > 0.1396: g[i] = gp[8]\n",
    "        if Tp < 0.1396 and Tp > 0.135: g[i] = gp[9]\n",
    "        if Tp < 0.135 and Tp > 0.1057: g[i] = gp[10]\n",
    "        if Tp < 0.1057 and Tp > 0.0008: g[i] = gp[11]\n",
    "        if Tp < 0.0008 and Tp > 0.000511: g[i] = gp[12]\n",
    "        if Tp < 0.000511: g[i] = gp[13]\n",
    "        i+=1\n",
    "    return g\n",
    "def Trad(x): #x in metters and output is in GeV\n",
    "    l = np.where(x == 0)\n",
    "    if  len(l[0]) > 0: \n",
    "        return 1e100\n",
    "    else: \n",
    "        return 1e-3*np.sqrt(2.42*c/x)/g_SM(1e-3*np.sqrt(2.42*c/x))**(1/4)"
   ]
  }
 ],
 "metadata": {
  "kernelspec": {
   "display_name": "Python 3 (ipykernel)",
   "language": "python",
   "name": "python3"
  },
  "language_info": {
   "codemirror_mode": {
    "name": "ipython",
    "version": 3
   },
   "file_extension": ".py",
   "mimetype": "text/x-python",
   "name": "python",
   "nbconvert_exporter": "python",
   "pygments_lexer": "ipython3",
   "version": "3.11.7"
  }
 },
 "nbformat": 4,
 "nbformat_minor": 5
}
